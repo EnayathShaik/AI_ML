{
  "nbformat": 4,
  "nbformat_minor": 0,
  "metadata": {
    "colab": {
      "provenance": [],
      "authorship_tag": "ABX9TyNEATL2SBBuimilddq09bLb",
      "include_colab_link": true
    },
    "kernelspec": {
      "name": "python3",
      "display_name": "Python 3"
    },
    "language_info": {
      "name": "python"
    }
  },
  "cells": [
    {
      "cell_type": "markdown",
      "metadata": {
        "id": "view-in-github",
        "colab_type": "text"
      },
      "source": [
        "<a href=\"https://colab.research.google.com/github/EnayathShaik/AI_ML/blob/Practice/MNIST_Handwritten_Digits_Read.ipynb\" target=\"_parent\"><img src=\"https://colab.research.google.com/assets/colab-badge.svg\" alt=\"Open In Colab\"/></a>"
      ]
    },
    {
      "cell_type": "code",
      "execution_count": 18,
      "metadata": {
        "id": "AWpQB98BgBJ_"
      },
      "outputs": [],
      "source": [
        "import tensorflow as tf\n",
        "from tensorflow import keras\n",
        "from keras import Sequential\n",
        "from keras.layers import Dense, Flatten, Dropout"
      ]
    },
    {
      "cell_type": "code",
      "source": [
        "(x_train, y_train), (x_test, y_test) = keras.datasets.mnist.load_data()\n",
        "x_train.shape"
      ],
      "metadata": {
        "colab": {
          "base_uri": "https://localhost:8080/"
        },
        "id": "rg2HFk6thczq",
        "outputId": "064468be-4ffe-49e5-ec02-923c6a0d7371"
      },
      "execution_count": 2,
      "outputs": [
        {
          "output_type": "stream",
          "name": "stdout",
          "text": [
            "Downloading data from https://storage.googleapis.com/tensorflow/tf-keras-datasets/mnist.npz\n",
            "\u001b[1m11490434/11490434\u001b[0m \u001b[32m━━━━━━━━━━━━━━━━━━━━\u001b[0m\u001b[37m\u001b[0m \u001b[1m0s\u001b[0m 0us/step\n"
          ]
        },
        {
          "output_type": "execute_result",
          "data": {
            "text/plain": [
              "(60000, 28, 28)"
            ]
          },
          "metadata": {},
          "execution_count": 2
        }
      ]
    },
    {
      "cell_type": "code",
      "source": [
        "print(x_train.shape)\n",
        "print(y_train.shape)\n",
        "print(x_test.shape)\n",
        "print(y_test.shape)\n"
      ],
      "metadata": {
        "colab": {
          "base_uri": "https://localhost:8080/"
        },
        "id": "zmKMBZavh1vi",
        "outputId": "02abacdb-0442-4c9c-db9a-b1be39fe4964"
      },
      "execution_count": 3,
      "outputs": [
        {
          "output_type": "stream",
          "name": "stdout",
          "text": [
            "(60000, 28, 28)\n",
            "(60000,)\n",
            "(10000, 28, 28)\n",
            "(10000,)\n"
          ]
        }
      ]
    },
    {
      "cell_type": "code",
      "source": [
        "import matplotlib.pyplot as plt\n",
        "%matplotlib inline"
      ],
      "metadata": {
        "id": "6KQx7Ta7h-Nz"
      },
      "execution_count": 4,
      "outputs": []
    },
    {
      "cell_type": "code",
      "source": [
        "plt.imshow(x_train[1410])"
      ],
      "metadata": {
        "colab": {
          "base_uri": "https://localhost:8080/",
          "height": 448
        },
        "id": "0306EC83ijqV",
        "outputId": "da5601fd-fdea-4ce9-cbde-b778ac22d6c9"
      },
      "execution_count": 5,
      "outputs": [
        {
          "output_type": "execute_result",
          "data": {
            "text/plain": [
              "<matplotlib.image.AxesImage at 0x78e0b49f0690>"
            ]
          },
          "metadata": {},
          "execution_count": 5
        },
        {
          "output_type": "display_data",
          "data": {
            "text/plain": [
              "<Figure size 640x480 with 1 Axes>"
            ],
            "image/png": "[encoded data removed]"
          },
          "metadata": {}
        }
      ]
    },
    {
      "cell_type": "code",
      "source": [
        "plt.imshow(x_train[2365])"
      ],
      "metadata": {
        "colab": {
          "base_uri": "https://localhost:8080/",
          "height": 448
        },
        "id": "QGstTxJdjAQf",
        "outputId": "cc3b677e-6902-44a6-c69d-b25b777d7082"
      },
      "execution_count": 6,
      "outputs": [
        {
          "output_type": "execute_result",
          "data": {
            "text/plain": [
              "<matplotlib.image.AxesImage at 0x78e0a6ab9fd0>"
            ]
          },
          "metadata": {},
          "execution_count": 6
        },
        {
          "output_type": "display_data",
          "data": {
            "text/plain": [
              "<Figure size 640x480 with 1 Axes>"
            ],
            "image/png": "[encoded data removed]"
          },
          "metadata": {}
        }
      ]
    },
    {
      "cell_type": "code",
      "source": [
        "print(y_train[2365])"
      ],
      "metadata": {
        "colab": {
          "base_uri": "https://localhost:8080/"
        },
        "id": "iR01ZZnFkC9-",
        "outputId": "f3de1e99-3b9c-47e4-a3e6-0e3870603649"
      },
      "execution_count": 7,
      "outputs": [
        {
          "output_type": "stream",
          "name": "stdout",
          "text": [
            "6\n"
          ]
        }
      ]
    },
    {
      "cell_type": "code",
      "source": [
        "print(x_train[2365])"
      ],
      "metadata": {
        "colab": {
          "base_uri": "https://localhost:8080/"
        },
        "id": "1h2MgefWj_Uh",
        "outputId": "aace40b9-22c2-4743-fe13-89f19b674ead"
      },
      "execution_count": 8,
      "outputs": [
        {
          "output_type": "stream",
          "name": "stdout",
          "text": [
            "[[  0   0   0   0   0   0   0   0   0   0   0   0   0   0   0   0   0   0\n",
            "    0   0   0   0   0   0   0   0   0   0]\n",
            " [  0   0   0   0   0   0   0   0   0   0   0   0   0   0   0   0   0   0\n",
            "    0   0   0   0   0   0   0   0   0   0]\n",
            " [  0   0   0   0   0   0   0   0   0   0   0   0   0   0   0   0   0   0\n",
            "   96 168 254 254  88   0   0   0   0   0]\n",
            " [  0   0   0   0   0   0   0   0   0   0   0   0   0   0   0   0   0   0\n",
            "  182 253 253 253  75   0   0   0   0   0]\n",
            " [  0   0   0   0   0   0   0   0   0   0   0   0   0   0   0   0   6 118\n",
            "  226 253 241 113   9   0   0   0   0   0]\n",
            " [  0   0   0   0   0   0   0   0   0   0   0   0   0   0   0  17 182 253\n",
            "  253 218  65   0   0   0   0   0   0   0]\n",
            " [  0   0   0   0   0   0   0   0   0   0   0   0   0   0  96 188 253 253\n",
            "  253 115  14   0   0   0   0   0   0   0]\n",
            " [  0   0   0   0   0   0   0   0   0   0   0   0   0   0 226 253 253 253\n",
            "  224  32   0   0   0   0   0   0   0   0]\n",
            " [  0   0   0   0   0   0   0   0   0   0   0   0  37 201 254 253 253 173\n",
            "   48  12   0   0   0   0   0   0   0   0]\n",
            " [  0   0   0   0   0   0   0   0   0   0   0   0 213 253 254 253 222  12\n",
            "    0   0   0   0   0   0   0   0   0   0]\n",
            " [  0   0   0   0   0   0   0   0   0   0   0 146 251 253 254 231  20   0\n",
            "    0   0   0   0   0   0   0   0   0   0]\n",
            " [  0   0   0   0   0   0   0   0   0   0   0 213 253 253 254 229   0   0\n",
            "    0   0   0   0   0   0   0   0   0   0]\n",
            " [  0   0   0   0   0   0   0   0   0  10 209 254 254 249 117   0   2  13\n",
            "  100 226 214  77   0   0   0   0   0   0]\n",
            " [  0   0   0   0   0   0   0   0  47 228 253 253 253 121   2  95 161 253\n",
            "  253 253 253 105   0   0   0   0   0   0]\n",
            " [  0   0   0   0   0   0   0   0 125 253 253 253 238  10  88 253 253 253\n",
            "  253 253 253 217  15   0   0   0   0   0]\n",
            " [  0   0   0   0   0   0   0 114 230 253 253 235  59  24 214 253 253 244\n",
            "  187 225 253 235  19   0   0   0   0   0]\n",
            " [  0   0   0   0   0   0  38 190 253 253 233 120  56 211 254 253 216  99\n",
            "   90 253 253 128   0   0   0   0   0   0]\n",
            " [  0   0   0   0   0  54 231 253 253 198 144 120 248 253 251 112  68  97\n",
            "  236 253 194  26   0   0   0   0   0   0]\n",
            " [  0   0   0   0   0  28 175 253 253 217 222 195 253 253 252 194 131 253\n",
            "  253 253 146  17   0   0   0   0   0   0]\n",
            " [  0   0   0   0   0   0 157 253 253 253 253 253 253 253 254 253 253 253\n",
            "  253 179  30   0   0   0   0   0   0   0]\n",
            " [  0   0   0   0   0   0  48 253 253 253 253 253 253 253 254 253 253 253\n",
            "  146   6   0   0   0   0   0   0   0   0]\n",
            " [  0   0   0   0   0   0  19 155 253 253 253 253 253 253 249 132 115  11\n",
            "    4   0   0   0   0   0   0   0   0   0]\n",
            " [  0   0   0   0   0   0   0   0   0   0   0   0   0   0   0   0   0   0\n",
            "    0   0   0   0   0   0   0   0   0   0]\n",
            " [  0   0   0   0   0   0   0   0   0   0   0   0   0   0   0   0   0   0\n",
            "    0   0   0   0   0   0   0   0   0   0]\n",
            " [  0   0   0   0   0   0   0   0   0   0   0   0   0   0   0   0   0   0\n",
            "    0   0   0   0   0   0   0   0   0   0]\n",
            " [  0   0   0   0   0   0   0   0   0   0   0   0   0   0   0   0   0   0\n",
            "    0   0   0   0   0   0   0   0   0   0]\n",
            " [  0   0   0   0   0   0   0   0   0   0   0   0   0   0   0   0   0   0\n",
            "    0   0   0   0   0   0   0   0   0   0]\n",
            " [  0   0   0   0   0   0   0   0   0   0   0   0   0   0   0   0   0   0\n",
            "    0   0   0   0   0   0   0   0   0   0]]\n"
          ]
        }
      ]
    },
    {
      "cell_type": "code",
      "source": [
        "\"\"\"\n",
        " [[  0   0   0   0   0   0   0   0   0   0   0   0   0   0   0   0   0   0   0   0   0   0   0   0   0   0   0   0]\n",
        " [  0   0   0   0   0   0   0   0   0   0   0   0   0   0   0   0   0   0   0   0   0   0   0   0   0   0   0   0]\n",
        " [  0   0   0   0   0   0   0   0   0   0   0   0   0   0   0   0   0   0   96 168 254 254  88   0   0   0   0   0]\n",
        " [  0   0   0   0   0   0   0   0   0   0   0   0   0   0   0   0   0   0  182 253 253 253  75   0   0   0   0   0]\n",
        " [  0   0   0   0   0   0   0   0   0   0   0   0   0   0   0   0   6 118  226 253 241 113   9   0   0   0   0   0]\n",
        " [  0   0   0   0   0   0   0   0   0   0   0   0   0   0   0  17 182 253 253 218  65   0   0   0   0   0   0   0]\n",
        " [  0   0   0   0   0   0   0   0   0   0   0   0   0   0  96 188 253 253  253 115  14   0   0   0   0   0   0   0]\n",
        " [  0   0   0   0   0   0   0   0   0   0   0   0   0   0 226 253 253 253  224  32   0   0   0   0   0   0   0   0]\n",
        " [  0   0   0   0   0   0   0   0   0   0   0   0  37 201 254 253 253 173   48  12   0   0   0   0   0   0   0   0]\n",
        " [  0   0   0   0   0   0   0   0   0   0   0   0 213 253 254 253 222  12    0   0   0   0   0   0   0   0   0   0]\n",
        " [  0   0   0   0   0   0   0   0   0   0   0 146 251 253 254 231  20   0    0   0   0   0   0   0   0   0   0   0]\n",
        " [  0   0   0   0   0   0   0   0   0   0   0 213 253 253 254 229   0   0    0   0   0   0   0   0   0   0   0   0]\n",
        " [  0   0   0   0   0   0   0   0   0  10 209 254 254 249 117   0   2  13  100 226 214  77   0   0   0   0   0   0]\n",
        " [  0   0   0   0   0   0   0   0  47 228 253 253 253 121   2  95 161 253  253 253 253 105   0   0   0   0   0   0]\n",
        " [  0   0   0   0   0   0   0   0 125 253 253 253 238  10  88 253 253 253  253 253 253 217  15   0   0   0   0   0]\n",
        " [  0   0   0   0   0   0   0 114 230 253 253 235  59  24 214 253 253 244  187 225 253 235  19   0   0   0   0   0]\n",
        " [  0   0   0   0   0   0  38 190 253 253 233 120  56 211 254 253 216  99   90 253 253 128   0   0   0   0   0   0]\n",
        " [  0   0   0   0   0  54 231 253 253 198 144 120 248 253 251 112  68  97  236 253 194  26   0   0   0   0   0   0]\n",
        " [  0   0   0   0   0  28 175 253 253 217 222 195 253 253 252 194 131 253  253 253 146  17   0   0   0   0   0   0]\n",
        " [  0   0   0   0   0   0 157 253 253 253 253 253 253 253 254 253 253 253  253 179  30   0   0   0   0   0   0   0]\n",
        " [  0   0   0   0   0   0  48 253 253 253 253 253 253 253 254 253 253 253  146   6   0   0   0   0   0   0   0   0]\n",
        " [  0   0   0   0   0   0  19 155 253 253 253 253 253 253 249 132 115  11    4   0   0   0   0   0   0   0   0   0]\n",
        " [  0   0   0   0   0   0   0   0   0   0   0   0   0   0   0   0   0   0    0   0   0   0   0   0   0   0   0   0]\n",
        " [  0   0   0   0   0   0   0   0   0   0   0   0   0   0   0   0   0   0    0   0   0   0   0   0   0   0   0   0]\n",
        " [  0   0   0   0   0   0   0   0   0   0   0   0   0   0   0   0   0   0    0   0   0   0   0   0   0   0   0   0]\n",
        " [  0   0   0   0   0   0   0   0   0   0   0   0   0   0   0   0   0   0    0   0   0   0   0   0   0   0   0   0]\n",
        " [  0   0   0   0   0   0   0   0   0   0   0   0   0   0   0   0   0   0    0   0   0   0   0   0   0   0   0   0]\n",
        " [  0   0   0   0   0   0   0   0   0   0   0   0   0   0   0   0   0   0    0   0   0   0   0   0   0   0   0   0]]\n",
        " \"\"\""
      ],
      "metadata": {
        "colab": {
          "base_uri": "https://localhost:8080/",
          "height": 143
        },
        "id": "fvNAT_08lsMV",
        "outputId": "49b6a152-fc0c-405e-cef4-271c6acbfb72"
      },
      "execution_count": 9,
      "outputs": [
        {
          "output_type": "execute_result",
          "data": {
            "text/plain": [
              "'\\n [[  0   0   0   0   0   0   0   0   0   0   0   0   0   0   0   0   0   0   0   0   0   0   0   0   0   0   0   0]\\n [  0   0   0   0   0   0   0   0   0   0   0   0   0   0   0   0   0   0   0   0   0   0   0   0   0   0   0   0]\\n [  0   0   0   0   0   0   0   0   0   0   0   0   0   0   0   0   0   0   96 168 254 254  88   0   0   0   0   0]\\n [  0   0   0   0   0   0   0   0   0   0   0   0   0   0   0   0   0   0  182 253 253 253  75   0   0   0   0   0]\\n [  0   0   0   0   0   0   0   0   0   0   0   0   0   0   0   0   6 118  226 253 241 113   9   0   0   0   0   0]\\n [  0   0   0   0   0   0   0   0   0   0   0   0   0   0   0  17 182 253 253 218  65   0   0   0   0   0   0   0]\\n [  0   0   0   0   0   0   0   0   0   0   0   0   0   0  96 188 253 253  253 115  14   0   0   0   0   0   0   0]\\n [  0   0   0   0   0   0   0   0   0   0   0   0   0   0 226 253 253 253  224  32   0   0   0   0   0   0   0   0]\\n [  0   0   0   0   0   0   0   0   0   0   0   0  37 201 254 253 253 173   48  12   0   0   0   0   0   0   0   0]\\n [  0   0   0   0   0   0   0   0   0   0   0   0 213 253 254 253 222  12    0   0   0   0   0   0   0   0   0   0]\\n [  0   0   0   0   0   0   0   0   0   0   0 146 251 253 254 231  20   0    0   0   0   0   0   0   0   0   0   0]\\n [  0   0   0   0   0   0   0   0   0   0   0 213 253 253 254 229   0   0    0   0   0   0   0   0   0   0   0   0]\\n [  0   0   0   0   0   0   0   0   0  10 209 254 254 249 117   0   2  13  100 226 214  77   0   0   0   0   0   0]\\n [  0   0   0   0   0   0   0   0  47 228 253 253 253 121   2  95 161 253  253 253 253 105   0   0   0   0   0   0]\\n [  0   0   0   0   0   0   0   0 125 253 253 253 238  10  88 253 253 253  253 253 253 217  15   0   0   0   0   0]\\n [  0   0   0   0   0   0   0 114 230 253 253 235  59  24 214 253 253 244  187 225 253 235  19   0   0   0   0   0]\\n [  0   0   0   0   0   0  38 190 253 253 233 120  56 211 254 253 216  99   90 253 253 128   0   0   0   0   0   0]\\n [  0   0   0   0   0  54 231 253 253 198 144 120 248 253 251 112  68  97  236 253 194  26   0   0   0   0   0   0]\\n [  0   0   0   0   0  28 175 253 253 217 222 195 253 253 252 194 131 253  253 253 146  17   0   0   0   0   0   0]\\n [  0   0   0   0   0   0 157 253 253 253 253 253 253 253 254 253 253 253  253 179  30   0   0   0   0   0   0   0]\\n [  0   0   0   0   0   0  48 253 253 253 253 253 253 253 254 253 253 253  146   6   0   0   0   0   0   0   0   0]\\n [  0   0   0   0   0   0  19 155 253 253 253 253 253 253 249 132 115  11    4   0   0   0   0   0   0   0   0   0]\\n [  0   0   0   0   0   0   0   0   0   0   0   0   0   0   0   0   0   0    0   0   0   0   0   0   0   0   0   0]\\n [  0   0   0   0   0   0   0   0   0   0   0   0   0   0   0   0   0   0    0   0   0   0   0   0   0   0   0   0]\\n [  0   0   0   0   0   0   0   0   0   0   0   0   0   0   0   0   0   0    0   0   0   0   0   0   0   0   0   0]\\n [  0   0   0   0   0   0   0   0   0   0   0   0   0   0   0   0   0   0    0   0   0   0   0   0   0   0   0   0]\\n [  0   0   0   0   0   0   0   0   0   0   0   0   0   0   0   0   0   0    0   0   0   0   0   0   0   0   0   0]\\n [  0   0   0   0   0   0   0   0   0   0   0   0   0   0   0   0   0   0    0   0   0   0   0   0   0   0   0   0]]\\n '"
            ],
            "application/vnd.google.colaboratory.intrinsic+json": {
              "type": "string"
            }
          },
          "metadata": {},
          "execution_count": 9
        }
      ]
    },
    {
      "cell_type": "markdown",
      "source": [
        "## Feature Scaling"
      ],
      "metadata": {
        "id": "I-NK0OjYnN6O"
      }
    },
    {
      "cell_type": "code",
      "source": [
        "x_train = x_train/255"
      ],
      "metadata": {
        "id": "dz4UabucmsKo"
      },
      "execution_count": 10,
      "outputs": []
    },
    {
      "cell_type": "code",
      "source": [
        "print(x_train[2365])"
      ],
      "metadata": {
        "colab": {
          "base_uri": "https://localhost:8080/"
        },
        "id": "dwcc3zfQnPm-",
        "outputId": "c2e41947-7924-4caf-fb27-ae6f8860d63a"
      },
      "execution_count": 11,
      "outputs": [
        {
          "output_type": "stream",
          "name": "stdout",
          "text": [
            "[[0.         0.         0.         0.         0.         0.\n",
            "  0.         0.         0.         0.         0.         0.\n",
            "  0.         0.         0.         0.         0.         0.\n",
            "  0.         0.         0.         0.         0.         0.\n",
            "  0.         0.         0.         0.        ]\n",
            " [0.         0.         0.         0.         0.         0.\n",
            "  0.         0.         0.         0.         0.         0.\n",
            "  0.         0.         0.         0.         0.         0.\n",
            "  0.         0.         0.         0.         0.         0.\n",
            "  0.         0.         0.         0.        ]\n",
            " [0.         0.         0.         0.         0.         0.\n",
            "  0.         0.         0.         0.         0.         0.\n",
            "  0.         0.         0.         0.         0.         0.\n",
            "  0.37647059 0.65882353 0.99607843 0.99607843 0.34509804 0.\n",
            "  0.         0.         0.         0.        ]\n",
            " [0.         0.         0.         0.         0.         0.\n",
            "  0.         0.         0.         0.         0.         0.\n",
            "  0.         0.         0.         0.         0.         0.\n",
            "  0.71372549 0.99215686 0.99215686 0.99215686 0.29411765 0.\n",
            "  0.         0.         0.         0.        ]\n",
            " [0.         0.         0.         0.         0.         0.\n",
            "  0.         0.         0.         0.         0.         0.\n",
            "  0.         0.         0.         0.         0.02352941 0.4627451\n",
            "  0.88627451 0.99215686 0.94509804 0.44313725 0.03529412 0.\n",
            "  0.         0.         0.         0.        ]\n",
            " [0.         0.         0.         0.         0.         0.\n",
            "  0.         0.         0.         0.         0.         0.\n",
            "  0.         0.         0.         0.06666667 0.71372549 0.99215686\n",
            "  0.99215686 0.85490196 0.25490196 0.         0.         0.\n",
            "  0.         0.         0.         0.        ]\n",
            " [0.         0.         0.         0.         0.         0.\n",
            "  0.         0.         0.         0.         0.         0.\n",
            "  0.         0.         0.37647059 0.7372549  0.99215686 0.99215686\n",
            "  0.99215686 0.45098039 0.05490196 0.         0.         0.\n",
            "  0.         0.         0.         0.        ]\n",
            " [0.         0.         0.         0.         0.         0.\n",
            "  0.         0.         0.         0.         0.         0.\n",
            "  0.         0.         0.88627451 0.99215686 0.99215686 0.99215686\n",
            "  0.87843137 0.1254902  0.         0.         0.         0.\n",
            "  0.         0.         0.         0.        ]\n",
            " [0.         0.         0.         0.         0.         0.\n",
            "  0.         0.         0.         0.         0.         0.\n",
            "  0.14509804 0.78823529 0.99607843 0.99215686 0.99215686 0.67843137\n",
            "  0.18823529 0.04705882 0.         0.         0.         0.\n",
            "  0.         0.         0.         0.        ]\n",
            " [0.         0.         0.         0.         0.         0.\n",
            "  0.         0.         0.         0.         0.         0.\n",
            "  0.83529412 0.99215686 0.99607843 0.99215686 0.87058824 0.04705882\n",
            "  0.         0.         0.         0.         0.         0.\n",
            "  0.         0.         0.         0.        ]\n",
            " [0.         0.         0.         0.         0.         0.\n",
            "  0.         0.         0.         0.         0.         0.57254902\n",
            "  0.98431373 0.99215686 0.99607843 0.90588235 0.07843137 0.\n",
            "  0.         0.         0.         0.         0.         0.\n",
            "  0.         0.         0.         0.        ]\n",
            " [0.         0.         0.         0.         0.         0.\n",
            "  0.         0.         0.         0.         0.         0.83529412\n",
            "  0.99215686 0.99215686 0.99607843 0.89803922 0.         0.\n",
            "  0.         0.         0.         0.         0.         0.\n",
            "  0.         0.         0.         0.        ]\n",
            " [0.         0.         0.         0.         0.         0.\n",
            "  0.         0.         0.         0.03921569 0.81960784 0.99607843\n",
            "  0.99607843 0.97647059 0.45882353 0.         0.00784314 0.05098039\n",
            "  0.39215686 0.88627451 0.83921569 0.30196078 0.         0.\n",
            "  0.         0.         0.         0.        ]\n",
            " [0.         0.         0.         0.         0.         0.\n",
            "  0.         0.         0.18431373 0.89411765 0.99215686 0.99215686\n",
            "  0.99215686 0.4745098  0.00784314 0.37254902 0.63137255 0.99215686\n",
            "  0.99215686 0.99215686 0.99215686 0.41176471 0.         0.\n",
            "  0.         0.         0.         0.        ]\n",
            " [0.         0.         0.         0.         0.         0.\n",
            "  0.         0.         0.49019608 0.99215686 0.99215686 0.99215686\n",
            "  0.93333333 0.03921569 0.34509804 0.99215686 0.99215686 0.99215686\n",
            "  0.99215686 0.99215686 0.99215686 0.85098039 0.05882353 0.\n",
            "  0.         0.         0.         0.        ]\n",
            " [0.         0.         0.         0.         0.         0.\n",
            "  0.         0.44705882 0.90196078 0.99215686 0.99215686 0.92156863\n",
            "  0.23137255 0.09411765 0.83921569 0.99215686 0.99215686 0.95686275\n",
            "  0.73333333 0.88235294 0.99215686 0.92156863 0.0745098  0.\n",
            "  0.         0.         0.         0.        ]\n",
            " [0.         0.         0.         0.         0.         0.\n",
            "  0.14901961 0.74509804 0.99215686 0.99215686 0.91372549 0.47058824\n",
            "  0.21960784 0.82745098 0.99607843 0.99215686 0.84705882 0.38823529\n",
            "  0.35294118 0.99215686 0.99215686 0.50196078 0.         0.\n",
            "  0.         0.         0.         0.        ]\n",
            " [0.         0.         0.         0.         0.         0.21176471\n",
            "  0.90588235 0.99215686 0.99215686 0.77647059 0.56470588 0.47058824\n",
            "  0.97254902 0.99215686 0.98431373 0.43921569 0.26666667 0.38039216\n",
            "  0.9254902  0.99215686 0.76078431 0.10196078 0.         0.\n",
            "  0.         0.         0.         0.        ]\n",
            " [0.         0.         0.         0.         0.         0.10980392\n",
            "  0.68627451 0.99215686 0.99215686 0.85098039 0.87058824 0.76470588\n",
            "  0.99215686 0.99215686 0.98823529 0.76078431 0.51372549 0.99215686\n",
            "  0.99215686 0.99215686 0.57254902 0.06666667 0.         0.\n",
            "  0.         0.         0.         0.        ]\n",
            " [0.         0.         0.         0.         0.         0.\n",
            "  0.61568627 0.99215686 0.99215686 0.99215686 0.99215686 0.99215686\n",
            "  0.99215686 0.99215686 0.99607843 0.99215686 0.99215686 0.99215686\n",
            "  0.99215686 0.70196078 0.11764706 0.         0.         0.\n",
            "  0.         0.         0.         0.        ]\n",
            " [0.         0.         0.         0.         0.         0.\n",
            "  0.18823529 0.99215686 0.99215686 0.99215686 0.99215686 0.99215686\n",
            "  0.99215686 0.99215686 0.99607843 0.99215686 0.99215686 0.99215686\n",
            "  0.57254902 0.02352941 0.         0.         0.         0.\n",
            "  0.         0.         0.         0.        ]\n",
            " [0.         0.         0.         0.         0.         0.\n",
            "  0.0745098  0.60784314 0.99215686 0.99215686 0.99215686 0.99215686\n",
            "  0.99215686 0.99215686 0.97647059 0.51764706 0.45098039 0.04313725\n",
            "  0.01568627 0.         0.         0.         0.         0.\n",
            "  0.         0.         0.         0.        ]\n",
            " [0.         0.         0.         0.         0.         0.\n",
            "  0.         0.         0.         0.         0.         0.\n",
            "  0.         0.         0.         0.         0.         0.\n",
            "  0.         0.         0.         0.         0.         0.\n",
            "  0.         0.         0.         0.        ]\n",
            " [0.         0.         0.         0.         0.         0.\n",
            "  0.         0.         0.         0.         0.         0.\n",
            "  0.         0.         0.         0.         0.         0.\n",
            "  0.         0.         0.         0.         0.         0.\n",
            "  0.         0.         0.         0.        ]\n",
            " [0.         0.         0.         0.         0.         0.\n",
            "  0.         0.         0.         0.         0.         0.\n",
            "  0.         0.         0.         0.         0.         0.\n",
            "  0.         0.         0.         0.         0.         0.\n",
            "  0.         0.         0.         0.        ]\n",
            " [0.         0.         0.         0.         0.         0.\n",
            "  0.         0.         0.         0.         0.         0.\n",
            "  0.         0.         0.         0.         0.         0.\n",
            "  0.         0.         0.         0.         0.         0.\n",
            "  0.         0.         0.         0.        ]\n",
            " [0.         0.         0.         0.         0.         0.\n",
            "  0.         0.         0.         0.         0.         0.\n",
            "  0.         0.         0.         0.         0.         0.\n",
            "  0.         0.         0.         0.         0.         0.\n",
            "  0.         0.         0.         0.        ]\n",
            " [0.         0.         0.         0.         0.         0.\n",
            "  0.         0.         0.         0.         0.         0.\n",
            "  0.         0.         0.         0.         0.         0.\n",
            "  0.         0.         0.         0.         0.         0.\n",
            "  0.         0.         0.         0.        ]]\n"
          ]
        }
      ]
    },
    {
      "cell_type": "code",
      "source": [
        "x_test = x_test/255"
      ],
      "metadata": {
        "id": "i0wFC26Oneq3"
      },
      "execution_count": 12,
      "outputs": []
    },
    {
      "cell_type": "code",
      "source": [
        "plt.figure(figsize= (16,10))\n",
        "for i in range(25):\n",
        "  plt.subplot(5,5,i+1)\n",
        "  plt.xticks([])\n",
        "  plt.yticks([])\n",
        "  plt.imshow(x_train[i])\n",
        "  plt.xlabel(y_train[i])\n",
        "plt.show()"
      ],
      "metadata": {
        "colab": {
          "base_uri": "https://localhost:8080/",
          "height": 826
        },
        "id": "PAj0IdEKnngP",
        "outputId": "a9a0f554-4b35-408d-cfe8-0b6104176a30"
      },
      "execution_count": 17,
      "outputs": [
        {
          "output_type": "display_data",
          "data": {
            "text/plain": [
              "<Figure size 1600x1000 with 25 Axes>"
            ],
            "image/png": "[encoded data removed]"
          },
          "metadata": {}
        }
      ]
    },
    {
      "cell_type": "code",
      "source": [
        "model = Sequential()\n",
        "model.add(Flatten(input_shape = (28,28))) # Convert 2D t0 1D\n",
        "model.add(Dense(128, activation='relu'))\n",
        "model.add(Dropout(0.25))\n",
        "model.add(Dense(10,activation= 'softmax'))"
      ],
      "metadata": {
        "colab": {
          "base_uri": "https://localhost:8080/"
        },
        "id": "CTSo7yQkTrxC",
        "outputId": "f3b10a13-a044-4702-d0fe-e202158f1231"
      },
      "execution_count": 19,
      "outputs": [
        {
          "output_type": "stream",
          "name": "stderr",
          "text": [
            "/usr/local/lib/python3.11/dist-packages/keras/src/layers/reshaping/flatten.py:37: UserWarning: Do not pass an `input_shape`/`input_dim` argument to a layer. When using Sequential models, prefer using an `Input(shape)` object as the first layer in the model instead.\n",
            "  super().__init__(**kwargs)\n"
          ]
        }
      ]
    },
    {
      "cell_type": "code",
      "source": [
        "model.compile(optimizer='adam', loss = 'sparse_categorical_crossentropy', metrics=['accuracy'])"
      ],
      "metadata": {
        "id": "XDfCn4LZXdx1"
      },
      "execution_count": 22,
      "outputs": []
    },
    {
      "cell_type": "code",
      "source": [
        "fit_history = model.fit(x_train, y_train,epochs=10, validation_data=(x_test,y_test))"
      ],
      "metadata": {
        "colab": {
          "base_uri": "https://localhost:8080/"
        },
        "id": "9qLOe_ccYemu",
        "outputId": "53f2ec88-5722-4299-b0f5-d77b044ffbcc"
      },
      "execution_count": null,
      "outputs": [
        {
          "output_type": "stream",
          "name": "stdout",
          "text": [
            "Epoch 1/10\n",
            "\u001b[1m1875/1875\u001b[0m \u001b[32m━━━━━━━━━━━━━━━━━━━━\u001b[0m\u001b[37m\u001b[0m \u001b[1m11s\u001b[0m 5ms/step - accuracy: 0.8508 - loss: 0.5029 - val_accuracy: 0.9594 - val_loss: 0.1396\n",
            "Epoch 2/10\n",
            "\u001b[1m1875/1875\u001b[0m \u001b[32m━━━━━━━━━━━━━━━━━━━━\u001b[0m\u001b[37m\u001b[0m \u001b[1m10s\u001b[0m 5ms/step - accuracy: 0.9535 - loss: 0.1564 - val_accuracy: 0.9697 - val_loss: 0.0997\n",
            "Epoch 3/10\n",
            "\u001b[1m1875/1875\u001b[0m \u001b[32m━━━━━━━━━━━━━━━━━━━━\u001b[0m\u001b[37m\u001b[0m \u001b[1m9s\u001b[0m 5ms/step - accuracy: 0.9639 - loss: 0.1197 - val_accuracy: 0.9731 - val_loss: 0.0837\n",
            "Epoch 4/10\n",
            "\u001b[1m1875/1875\u001b[0m \u001b[32m━━━━━━━━━━━━━━━━━━━━\u001b[0m\u001b[37m\u001b[0m \u001b[1m13s\u001b[0m 6ms/step - accuracy: 0.9718 - loss: 0.0917 - val_accuracy: 0.9754 - val_loss: 0.0788\n",
            "Epoch 5/10\n",
            "\u001b[1m1875/1875\u001b[0m \u001b[32m━━━━━━━━━━━━━━━━━━━━\u001b[0m\u001b[37m\u001b[0m \u001b[1m18s\u001b[0m 5ms/step - accuracy: 0.9747 - loss: 0.0793 - val_accuracy: 0.9776 - val_loss: 0.0725\n",
            "Epoch 6/10\n",
            "\u001b[1m 959/1875\u001b[0m \u001b[32m━━━━━━━━━━\u001b[0m\u001b[37m━━━━━━━━━━\u001b[0m \u001b[1m4s\u001b[0m 5ms/step - accuracy: 0.9785 - loss: 0.0694"
          ]
        }
      ]
    },
    {
      "cell_type": "code",
      "source": [],
      "metadata": {
        "id": "lc47r8HMY4by"
      },
      "execution_count": null,
      "outputs": []
    }
  ]
}