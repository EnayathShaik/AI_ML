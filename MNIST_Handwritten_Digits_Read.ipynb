{
  "nbformat": 4,
  "nbformat_minor": 0,
  "metadata": {
    "colab": {
      "provenance": [],
      "authorship_tag": "ABX9TyNKjXfSpwYJ3xuZuuXnkk0A",
      "include_colab_link": true
    },
    "kernelspec": {
      "name": "python3",
      "display_name": "Python 3"
    },
    "language_info": {
      "name": "python"
    }
  },
  "cells": [
    {
      "cell_type": "markdown",
      "metadata": {
        "id": "view-in-github",
        "colab_type": "text"
      },
      "source": [
        "<a href=\"https://colab.research.google.com/github/EnayathShaik/AI_ML/blob/Practice/MNIST_Handwritten_Digits_Read.ipynb\" target=\"_parent\"><img src=\"https://colab.research.google.com/assets/colab-badge.svg\" alt=\"Open In Colab\"/></a>"
      ]
    },
    {
      "cell_type": "code",
      "execution_count": 3,
      "metadata": {
        "id": "AWpQB98BgBJ_"
      },
      "outputs": [],
      "source": [
        "import tensorflow as tf\n",
        "from tensorflow import keras\n",
        "from keras import Sequential\n",
        "from keras.layers import Dense, Flatten"
      ]
    },
    {
      "cell_type": "code",
      "source": [
        "(x_train, y_train), (x_test, y_test) = keras.datasets.mnist.load_data()\n",
        "x_train.shape"
      ],
      "metadata": {
        "colab": {
          "base_uri": "https://localhost:8080/"
        },
        "id": "rg2HFk6thczq",
        "outputId": "632ab259-3943-4448-ab28-1451221a174e"
      },
      "execution_count": 4,
      "outputs": [
        {
          "output_type": "stream",
          "name": "stdout",
          "text": [
            "Downloading data from https://storage.googleapis.com/tensorflow/tf-keras-datasets/mnist.npz\n",
            "\u001b[1m11490434/11490434\u001b[0m \u001b[32m━━━━━━━━━━━━━━━━━━━━\u001b[0m\u001b[37m\u001b[0m \u001b[1m0s\u001b[0m 0us/step\n"
          ]
        },
        {
          "output_type": "execute_result",
          "data": {
            "text/plain": [
              "(60000, 28, 28)"
            ]
          },
          "metadata": {},
          "execution_count": 4
        }
      ]
    },
    {
      "cell_type": "code",
      "source": [
        "print(x_train.shape)\n",
        "print(y_train.shape)\n",
        "print(x_test.shape)\n",
        "print(y_test.shape)\n"
      ],
      "metadata": {
        "colab": {
          "base_uri": "https://localhost:8080/"
        },
        "id": "zmKMBZavh1vi",
        "outputId": "9170cf82-638c-49aa-ac65-e194890e694f"
      },
      "execution_count": 5,
      "outputs": [
        {
          "output_type": "stream",
          "name": "stdout",
          "text": [
            "(60000, 28, 28)\n",
            "(60000,)\n",
            "(10000, 28, 28)\n",
            "(10000,)\n"
          ]
        }
      ]
    },
    {
      "cell_type": "code",
      "source": [
        "import matplotlib.pyplot as plt\n",
        "%matplotlib inline"
      ],
      "metadata": {
        "id": "6KQx7Ta7h-Nz"
      },
      "execution_count": 6,
      "outputs": []
    },
    {
      "cell_type": "code",
      "source": [
        "plt.imshow(x_train[1410])"
      ],
      "metadata": {
        "colab": {
          "base_uri": "https://localhost:8080/",
          "height": 448
        },
        "id": "0306EC83ijqV",
        "outputId": "5dec1175-802b-4403-ddc1-8ce12efab8f6"
      },
      "execution_count": 10,
      "outputs": [
        {
          "output_type": "execute_result",
          "data": {
            "text/plain": [
              "<matplotlib.image.AxesImage at 0x7a06c49513d0>"
            ]
          },
          "metadata": {},
          "execution_count": 10
        },
        {
          "output_type": "display_data",
          "data": {
            "text/plain": [
              "<Figure size 640x480 with 1 Axes>"
            ],
            "image/png": "[encoded data removed]"
          },
          "metadata": {}
        }
      ]
    },
    {
      "cell_type": "code",
      "source": [
        "plt.imshow(x_train[2365])"
      ],
      "metadata": {
        "colab": {
          "base_uri": "https://localhost:8080/",
          "height": 448
        },
        "id": "QGstTxJdjAQf",
        "outputId": "e23f84d3-03bf-4a8e-cabd-43d339546d22"
      },
      "execution_count": 11,
      "outputs": [
        {
          "output_type": "execute_result",
          "data": {
            "text/plain": [
              "<matplotlib.image.AxesImage at 0x7a06c496a210>"
            ]
          },
          "metadata": {},
          "execution_count": 11
        },
        {
          "output_type": "display_data",
          "data": {
            "text/plain": [
              "<Figure size 640x480 with 1 Axes>"
            ],
            "image/png": "[encoded data removed]"
          },
          "metadata": {}
        }
      ]
    },
    {
      "cell_type": "code",
      "source": [
        "print(y_train[2365])"
      ],
      "metadata": {
        "colab": {
          "base_uri": "https://localhost:8080/"
        },
        "id": "iR01ZZnFkC9-",
        "outputId": "d4824185-0211-4c8e-da77-5761ded6703c"
      },
      "execution_count": 14,
      "outputs": [
        {
          "output_type": "stream",
          "name": "stdout",
          "text": [
            "6\n"
          ]
        }
      ]
    },
    {
      "cell_type": "code",
      "source": [
        "print(x_train[2365])"
      ],
      "metadata": {
        "colab": {
          "base_uri": "https://localhost:8080/"
        },
        "id": "1h2MgefWj_Uh",
        "outputId": "afdef112-0154-46ab-f8a3-d86380058ff2"
      },
      "execution_count": 17,
      "outputs": [
        {
          "output_type": "stream",
          "name": "stdout",
          "text": [
            "[[  0   0   0   0   0   0   0   0   0   0   0   0   0   0   0   0   0   0\n",
            "    0   0   0   0   0   0   0   0   0   0]\n",
            " [  0   0   0   0   0   0   0   0   0   0   0   0   0   0   0   0   0   0\n",
            "    0   0   0   0   0   0   0   0   0   0]\n",
            " [  0   0   0   0   0   0   0   0   0   0   0   0   0   0   0   0   0   0\n",
            "   96 168 254 254  88   0   0   0   0   0]\n",
            " [  0   0   0   0   0   0   0   0   0   0   0   0   0   0   0   0   0   0\n",
            "  182 253 253 253  75   0   0   0   0   0]\n",
            " [  0   0   0   0   0   0   0   0   0   0   0   0   0   0   0   0   6 118\n",
            "  226 253 241 113   9   0   0   0   0   0]\n",
            " [  0   0   0   0   0   0   0   0   0   0   0   0   0   0   0  17 182 253\n",
            "  253 218  65   0   0   0   0   0   0   0]\n",
            " [  0   0   0   0   0   0   0   0   0   0   0   0   0   0  96 188 253 253\n",
            "  253 115  14   0   0   0   0   0   0   0]\n",
            " [  0   0   0   0   0   0   0   0   0   0   0   0   0   0 226 253 253 253\n",
            "  224  32   0   0   0   0   0   0   0   0]\n",
            " [  0   0   0   0   0   0   0   0   0   0   0   0  37 201 254 253 253 173\n",
            "   48  12   0   0   0   0   0   0   0   0]\n",
            " [  0   0   0   0   0   0   0   0   0   0   0   0 213 253 254 253 222  12\n",
            "    0   0   0   0   0   0   0   0   0   0]\n",
            " [  0   0   0   0   0   0   0   0   0   0   0 146 251 253 254 231  20   0\n",
            "    0   0   0   0   0   0   0   0   0   0]\n",
            " [  0   0   0   0   0   0   0   0   0   0   0 213 253 253 254 229   0   0\n",
            "    0   0   0   0   0   0   0   0   0   0]\n",
            " [  0   0   0   0   0   0   0   0   0  10 209 254 254 249 117   0   2  13\n",
            "  100 226 214  77   0   0   0   0   0   0]\n",
            " [  0   0   0   0   0   0   0   0  47 228 253 253 253 121   2  95 161 253\n",
            "  253 253 253 105   0   0   0   0   0   0]\n",
            " [  0   0   0   0   0   0   0   0 125 253 253 253 238  10  88 253 253 253\n",
            "  253 253 253 217  15   0   0   0   0   0]\n",
            " [  0   0   0   0   0   0   0 114 230 253 253 235  59  24 214 253 253 244\n",
            "  187 225 253 235  19   0   0   0   0   0]\n",
            " [  0   0   0   0   0   0  38 190 253 253 233 120  56 211 254 253 216  99\n",
            "   90 253 253 128   0   0   0   0   0   0]\n",
            " [  0   0   0   0   0  54 231 253 253 198 144 120 248 253 251 112  68  97\n",
            "  236 253 194  26   0   0   0   0   0   0]\n",
            " [  0   0   0   0   0  28 175 253 253 217 222 195 253 253 252 194 131 253\n",
            "  253 253 146  17   0   0   0   0   0   0]\n",
            " [  0   0   0   0   0   0 157 253 253 253 253 253 253 253 254 253 253 253\n",
            "  253 179  30   0   0   0   0   0   0   0]\n",
            " [  0   0   0   0   0   0  48 253 253 253 253 253 253 253 254 253 253 253\n",
            "  146   6   0   0   0   0   0   0   0   0]\n",
            " [  0   0   0   0   0   0  19 155 253 253 253 253 253 253 249 132 115  11\n",
            "    4   0   0   0   0   0   0   0   0   0]\n",
            " [  0   0   0   0   0   0   0   0   0   0   0   0   0   0   0   0   0   0\n",
            "    0   0   0   0   0   0   0   0   0   0]\n",
            " [  0   0   0   0   0   0   0   0   0   0   0   0   0   0   0   0   0   0\n",
            "    0   0   0   0   0   0   0   0   0   0]\n",
            " [  0   0   0   0   0   0   0   0   0   0   0   0   0   0   0   0   0   0\n",
            "    0   0   0   0   0   0   0   0   0   0]\n",
            " [  0   0   0   0   0   0   0   0   0   0   0   0   0   0   0   0   0   0\n",
            "    0   0   0   0   0   0   0   0   0   0]\n",
            " [  0   0   0   0   0   0   0   0   0   0   0   0   0   0   0   0   0   0\n",
            "    0   0   0   0   0   0   0   0   0   0]\n",
            " [  0   0   0   0   0   0   0   0   0   0   0   0   0   0   0   0   0   0\n",
            "    0   0   0   0   0   0   0   0   0   0]]\n"
          ]
        }
      ]
    },
    {
      "cell_type": "code",
      "source": [
        "\"\"\"\n",
        " [[  0   0   0   0   0   0   0   0   0   0   0   0   0   0   0   0   0   0   0   0   0   0   0   0   0   0   0   0]\n",
        " [  0   0   0   0   0   0   0   0   0   0   0   0   0   0   0   0   0   0   0   0   0   0   0   0   0   0   0   0]\n",
        " [  0   0   0   0   0   0   0   0   0   0   0   0   0   0   0   0   0   0   96 168 254 254  88   0   0   0   0   0]\n",
        " [  0   0   0   0   0   0   0   0   0   0   0   0   0   0   0   0   0   0  182 253 253 253  75   0   0   0   0   0]\n",
        " [  0   0   0   0   0   0   0   0   0   0   0   0   0   0   0   0   6 118  226 253 241 113   9   0   0   0   0   0]\n",
        " [  0   0   0   0   0   0   0   0   0   0   0   0   0   0   0  17 182 253 253 218  65   0   0   0   0   0   0   0]\n",
        " [  0   0   0   0   0   0   0   0   0   0   0   0   0   0  96 188 253 253  253 115  14   0   0   0   0   0   0   0]\n",
        " [  0   0   0   0   0   0   0   0   0   0   0   0   0   0 226 253 253 253  224  32   0   0   0   0   0   0   0   0]\n",
        " [  0   0   0   0   0   0   0   0   0   0   0   0  37 201 254 253 253 173   48  12   0   0   0   0   0   0   0   0]\n",
        " [  0   0   0   0   0   0   0   0   0   0   0   0 213 253 254 253 222  12    0   0   0   0   0   0   0   0   0   0]\n",
        " [  0   0   0   0   0   0   0   0   0   0   0 146 251 253 254 231  20   0    0   0   0   0   0   0   0   0   0   0]\n",
        " [  0   0   0   0   0   0   0   0   0   0   0 213 253 253 254 229   0   0    0   0   0   0   0   0   0   0   0   0]\n",
        " [  0   0   0   0   0   0   0   0   0  10 209 254 254 249 117   0   2  13  100 226 214  77   0   0   0   0   0   0]\n",
        " [  0   0   0   0   0   0   0   0  47 228 253 253 253 121   2  95 161 253  253 253 253 105   0   0   0   0   0   0]\n",
        " [  0   0   0   0   0   0   0   0 125 253 253 253 238  10  88 253 253 253  253 253 253 217  15   0   0   0   0   0]\n",
        " [  0   0   0   0   0   0   0 114 230 253 253 235  59  24 214 253 253 244  187 225 253 235  19   0   0   0   0   0]\n",
        " [  0   0   0   0   0   0  38 190 253 253 233 120  56 211 254 253 216  99   90 253 253 128   0   0   0   0   0   0]\n",
        " [  0   0   0   0   0  54 231 253 253 198 144 120 248 253 251 112  68  97  236 253 194  26   0   0   0   0   0   0]\n",
        " [  0   0   0   0   0  28 175 253 253 217 222 195 253 253 252 194 131 253  253 253 146  17   0   0   0   0   0   0]\n",
        " [  0   0   0   0   0   0 157 253 253 253 253 253 253 253 254 253 253 253  253 179  30   0   0   0   0   0   0   0]\n",
        " [  0   0   0   0   0   0  48 253 253 253 253 253 253 253 254 253 253 253  146   6   0   0   0   0   0   0   0   0]\n",
        " [  0   0   0   0   0   0  19 155 253 253 253 253 253 253 249 132 115  11    4   0   0   0   0   0   0   0   0   0]\n",
        " [  0   0   0   0   0   0   0   0   0   0   0   0   0   0   0   0   0   0    0   0   0   0   0   0   0   0   0   0]\n",
        " [  0   0   0   0   0   0   0   0   0   0   0   0   0   0   0   0   0   0    0   0   0   0   0   0   0   0   0   0]\n",
        " [  0   0   0   0   0   0   0   0   0   0   0   0   0   0   0   0   0   0    0   0   0   0   0   0   0   0   0   0]\n",
        " [  0   0   0   0   0   0   0   0   0   0   0   0   0   0   0   0   0   0    0   0   0   0   0   0   0   0   0   0]\n",
        " [  0   0   0   0   0   0   0   0   0   0   0   0   0   0   0   0   0   0    0   0   0   0   0   0   0   0   0   0]\n",
        " [  0   0   0   0   0   0   0   0   0   0   0   0   0   0   0   0   0   0    0   0   0   0   0   0   0   0   0   0]]\n",
        " \"\"\""
      ],
      "metadata": {
        "id": "fvNAT_08lsMV"
      },
      "execution_count": null,
      "outputs": []
    },
    {
      "cell_type": "code",
      "source": [],
      "metadata": {
        "id": "dz4UabucmsKo"
      },
      "execution_count": null,
      "outputs": []
    }
  ]
}