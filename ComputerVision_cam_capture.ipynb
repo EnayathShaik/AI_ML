{
 "cells": [
  {
   "cell_type": "code",
   "execution_count": 2,
   "id": "7c7f9db6-a1aa-4077-9f90-590c57043380",
   "metadata": {},
   "outputs": [],
   "source": [
    "import numpy as np\n",
    "import cv2"
   ]
  },
  {
   "cell_type": "code",
   "execution_count": 36,
   "id": "cd85bed5-477f-407c-bf38-965909018176",
   "metadata": {},
   "outputs": [],
   "source": [
    "def sketch(image):\n",
    "    #Convert image to greyscale\n",
    "    img_grey = cv2.cvtColor(image, cv2.COLOR_BGR2GRAY)\n",
    "    #smoothen the image(reduce noise)\n",
    "    img_grey_smooth = cv2.GaussianBlur(img_grey, (5,5), 0)\n",
    "    #extract the edges\n",
    "    img_canny = cv2.Canny(img_grey_smooth, 10, 80)\n",
    "    #Applying threshold - THRESH_BINARY_INV will give image with white background and black border lines; \n",
    "    #THRESH_BINARY will give image with background black and white border lines\n",
    "    _,mask_img = cv2.threshold(img_canny, 10, 255, cv2.THRESH_BINARY_INV) \n",
    "    return mask_img\n"
   ]
  },
  {
   "cell_type": "code",
   "execution_count": 38,
   "id": "891966ea-b209-4ca1-aa23-8acd37e40cdc",
   "metadata": {},
   "outputs": [],
   "source": [
    "capture = cv2.VideoCapture(0)\n",
    "while True:\n",
    "    _,frame = capture.read()\n",
    "    cv2.imshow(\"Live sketches\", sketch(frame))\n",
    "    if cv2.waitKey(1) == 13:\n",
    "        break\n",
    "capture.release()\n",
    "cv2.destroyAllWindows()"
   ]
  },
  {
   "cell_type": "code",
   "execution_count": null,
   "id": "af2f914c-4d40-4e0f-8120-cdb15106f2ea",
   "metadata": {},
   "outputs": [],
   "source": []
  }
 ],
 "metadata": {
  "kernelspec": {
   "display_name": "Python 3 (ipykernel)",
   "language": "python",
   "name": "python3"
  },
  "language_info": {
   "codemirror_mode": {
    "name": "ipython",
    "version": 3
   },
   "file_extension": ".py",
   "mimetype": "text/x-python",
   "name": "python",
   "nbconvert_exporter": "python",
   "pygments_lexer": "ipython3",
   "version": "3.12.7"
  }
 },
 "nbformat": 4,
 "nbformat_minor": 5
}
